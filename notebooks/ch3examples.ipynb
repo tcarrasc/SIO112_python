{
 "cells": [
  {
   "cell_type": "code",
   "execution_count": 1,
   "id": "aa9d2f8d-019d-4015-90be-b011c6a191f2",
   "metadata": {},
   "outputs": [],
   "source": [
    "import pandas as pd \n",
    "import numpy as np \n",
    "import matplotlib.pyplot as plt\n",
    "from numpy.linalg import inv\n",
    "from numpy.linalg import norm\n",
    "import time"
   ]
  },
  {
   "cell_type": "markdown",
   "id": "7fd9fe41-2848-461e-9f1e-dcf0bd6e6837",
   "metadata": {},
   "source": [
    "# SIO 112: CH 3 examples (translated from matlab)"
   ]
  },
  {
   "cell_type": "markdown",
   "id": "11946919-952d-4b22-8afe-918b13e6fd4b",
   "metadata": {},
   "source": [
    "## InvIllu"
   ]
  },
  {
   "cell_type": "code",
   "execution_count": 2,
   "id": "1ab6a68f-76f5-4196-b6d6-7a678c9a32d0",
   "metadata": {},
   "outputs": [],
   "source": [
    "# 1st argument --> numbers ranging from 0 to 9, \n",
    "# 2nd argument, row = 2, col = 3\n",
    "A = np.random.normal(size=(int(5e3),int(5e3)))\n",
    "b = np.random.normal(size=(int(5e3)))"
   ]
  },
  {
   "cell_type": "code",
   "execution_count": 16,
   "id": "31c0fa15-3b81-4887-89e0-2ee21093d405",
   "metadata": {},
   "outputs": [
    {
     "name": "stdout",
     "output_type": "stream",
     "text": [
      "--- 13.650579452514648 seconds ---\n"
     ]
    }
   ],
   "source": [
    "start_time = time.time()    # time how long this takes to run\n",
    "\n",
    "xBad = np.matmul(inv(A),b)  # matrix multiplication (row x col)\n",
    "\n",
    "print(\"--- %s seconds ---\" % (time.time() - start_time))"
   ]
  },
  {
   "cell_type": "code",
   "execution_count": 4,
   "id": "64fdca60-e3a4-4aeb-87e6-a44ec0ae1588",
   "metadata": {},
   "outputs": [
    {
     "name": "stdout",
     "output_type": "stream",
     "text": [
      "--- 4.62821626663208 seconds ---\n"
     ]
    }
   ],
   "source": [
    "start_time = time.time()    # time how long this takes to run\n",
    "\n",
    "xGood = x = np.linalg.solve(A, b)\n",
    "\n",
    "print(\"--- %s seconds ---\" % (time.time() - start_time))"
   ]
  },
  {
   "cell_type": "code",
   "execution_count": 19,
   "id": "84b5b442-ad82-44ba-99e9-cfc91534145e",
   "metadata": {},
   "outputs": [
    {
     "data": {
      "text/plain": [
       "1.9626256869577982e-11"
      ]
     },
     "execution_count": 19,
     "metadata": {},
     "output_type": "execute_result"
    }
   ],
   "source": [
    "test = xGood - xBad\n",
    "norm(test)"
   ]
  }
 ],
 "metadata": {
  "kernelspec": {
   "display_name": "Python 3 (ipykernel)",
   "language": "python",
   "name": "python3"
  },
  "language_info": {
   "codemirror_mode": {
    "name": "ipython",
    "version": 3
   },
   "file_extension": ".py",
   "mimetype": "text/x-python",
   "name": "python",
   "nbconvert_exporter": "python",
   "pygments_lexer": "ipython3",
   "version": "3.8.12"
  }
 },
 "nbformat": 4,
 "nbformat_minor": 5
}
