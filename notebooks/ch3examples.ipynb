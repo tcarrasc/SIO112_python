{
 "cells": [
  {
   "cell_type": "code",
   "execution_count": 7,
   "id": "aa9d2f8d-019d-4015-90be-b011c6a191f2",
   "metadata": {},
   "outputs": [],
   "source": [
    "import pandas as pd \n",
    "import numpy as np \n",
    "import matplotlib.pyplot as plt\n",
    "from numpy.linalg import inv\n",
    "from numpy.linalg import norm\n",
    "from numpy.linalg import qr\n",
    "from numpy.linalg import solve\n",
    "import time\n",
    "from scipy.linalg import lu"
   ]
  },
  {
   "cell_type": "markdown",
   "id": "7fd9fe41-2848-461e-9f1e-dcf0bd6e6837",
   "metadata": {},
   "source": [
    "# SIO 112: CH 3 examples (translated from matlab)"
   ]
  },
  {
   "cell_type": "markdown",
   "id": "5140be0b-ce4c-4c05-9cac-f277510902c2",
   "metadata": {},
   "source": [
    "## QRDemo"
   ]
  },
  {
   "cell_type": "code",
   "execution_count": 53,
   "id": "5024fd86-04ab-4a07-94c5-ce1fc884c611",
   "metadata": {},
   "outputs": [
    {
     "name": "stdout",
     "output_type": "stream",
     "text": [
      "x0: [1.5 2.  1.5]\n",
      "x1: [1. 1.]\n"
     ]
    },
    {
     "data": {
      "text/plain": [
       "-2.23606797749979"
      ]
     },
     "execution_count": 53,
     "metadata": {},
     "output_type": "execute_result"
    }
   ],
   "source": [
    "A = np.array([[2,-1,0],\n",
    "              [-1,2,-1],\n",
    "              [0,-1,2]])\n",
    "b = np.array([1,1,1])\n",
    "\n",
    "# Python's solver\n",
    "x0 = solve(A, b)\n",
    "print('x0:',x0)\n",
    "\n",
    "# QR factorization\n",
    "Q,R = qr(A)\n",
    "Q*R-A\n",
    "xQR = solve(R, (np.transpose(Q)*b))\n",
    "\n",
    "# LU factorization\n",
    "a,L,U = lu(A)\n",
    "y = solve(L,b)\n",
    "xLU = solve(U,y)\n",
    "\n",
    "A = np.array([[2,-1],\n",
    "             [-1,2],\n",
    "             [0,1]])\n",
    "b = np.array([1,1,1])\n",
    "\n",
    "# Python's solver\n",
    "x1 , c, z, d = np.linalg.lstsq(A, b,rcond=None)\n",
    "print('x1:',x1)\n",
    "\n",
    "# QR factorization\n",
    "hQ, hR = qr(A)\n",
    "Q = hQ[:,[0]]\n",
    "hR[0,0] \n"
   ]
  },
  {
   "cell_type": "markdown",
   "id": "fe6ab937-c560-4843-adbc-ff5f556c1ed5",
   "metadata": {},
   "source": [
    "## InvIllu"
   ]
  },
  {
   "cell_type": "code",
   "execution_count": 54,
   "id": "1ab6a68f-76f5-4196-b6d6-7a678c9a32d0",
   "metadata": {},
   "outputs": [],
   "source": [
    "# 1st argument --> numbers ranging from 0 to 9, \n",
    "# 2nd argument, row = 2, col = 3\n",
    "A = np.random.normal(size=(int(5e3),int(5e3)))   # = matlabs:  randn(5e3)\n",
    "b = np.random.normal(size=(int(5e3)))   # = matlabs: randn(5e3,1)"
   ]
  },
  {
   "cell_type": "code",
   "execution_count": 55,
   "id": "31c0fa15-3b81-4887-89e0-2ee21093d405",
   "metadata": {},
   "outputs": [
    {
     "name": "stdout",
     "output_type": "stream",
     "text": [
      "--- 6.51547384262085 seconds ---\n"
     ]
    }
   ],
   "source": [
    "start_time = time.time()    # time how long this takes to run\n",
    "\n",
    "xBad = np.matmul(inv(A),b)  # matrix multiplication (row x col)\n",
    "\n",
    "print(\"--- %s seconds ---\" % (time.time() - start_time))"
   ]
  },
  {
   "cell_type": "code",
   "execution_count": 56,
   "id": "64fdca60-e3a4-4aeb-87e6-a44ec0ae1588",
   "metadata": {},
   "outputs": [
    {
     "name": "stdout",
     "output_type": "stream",
     "text": [
      "--- 1.9889426231384277 seconds ---\n"
     ]
    }
   ],
   "source": [
    "start_time = time.time()    # time how long this takes to run\n",
    "\n",
    "xGood = solve(A, b) # solving a linear system\n",
    "\n",
    "print(\"--- %s seconds ---\" % (time.time() - start_time))"
   ]
  },
  {
   "cell_type": "code",
   "execution_count": 57,
   "id": "84b5b442-ad82-44ba-99e9-cfc91534145e",
   "metadata": {},
   "outputs": [
    {
     "data": {
      "text/plain": [
       "3.1249972362424688e-09"
      ]
     },
     "execution_count": 57,
     "metadata": {},
     "output_type": "execute_result"
    }
   ],
   "source": [
    "test = xGood - xBad\n",
    "norm(test)"
   ]
  },
  {
   "cell_type": "markdown",
   "id": "79eadd4f-7485-43ba-aba6-4b8fb973a76d",
   "metadata": {},
   "source": [
    "## GaussSeidelIllustration"
   ]
  },
  {
   "cell_type": "code",
   "execution_count": 18,
   "id": "47171527-f1a6-4876-b8b4-2ddd5119f629",
   "metadata": {},
   "outputs": [
    {
     "name": "stdout",
     "output_type": "stream",
     "text": [
      "Residual after 21 iterations: 5.331201499700045e-07\n"
     ]
    },
    {
     "name": "stderr",
     "output_type": "stream",
     "text": [
      "C:\\Users\\trin\\AppData\\Local\\Temp/ipykernel_16904/4069350029.py:40: UserWarning: Attempted to set non-positive left xlim on a log-scaled axis.\n",
      "Invalid limit will be ignored.\n",
      "  plt.xlim(0,3e1)\n"
     ]
    },
    {
     "data": {
      "image/png": "[encoded data removed]",
      "text/plain": [
       "<Figure size 432x288 with 1 Axes>"
      ]
     },
     "metadata": {
      "needs_background": "light"
     },
     "output_type": "display_data"
    }
   ],
   "source": [
    "from scipy.linalg import lu\n",
    "from numpy.linalg import norm\n",
    "A = np.array([[2,-1,0],\n",
    "              [-1,2,-1],\n",
    "              [0,-1,2]])\n",
    "b = np.array([1,1,1])\n",
    "\n",
    "a,l,u = lu(A)\n",
    "\n",
    "xMat = solve(A, b)\n",
    "#xMAt\n",
    "\n",
    "L = np.tril(A,-1)\n",
    "D = np.diag(np.diag(A))\n",
    "U = np.triu(A,1)\n",
    "\n",
    "x = [1,1,1]\n",
    "\n",
    "tol = 1e-6\n",
    "nmax = int(5e3)\n",
    "go = 1\n",
    "\n",
    "Norms = np.zeros(nmax)\n",
    "Norms[0] = norm(np.matmul(A,x)-b) \n",
    "counter = 0\n",
    "\n",
    "while go == 1:\n",
    "    x = solve((L+D),(b-(np.matmul(U,x))))\n",
    "    normNew = norm(np.matmul(A,x)-b)\n",
    "    #print(normNew)\n",
    "    if normNew < tol:\n",
    "        go = 0\n",
    "    elif counter > nmax:\n",
    "        go = 0\n",
    "    counter += 1\n",
    "    Norms[counter] = normNew\n",
    "print('Residual after', counter,'iterations:',norm(np.matmul(A,x)-b))\n",
    "\n",
    "plt.loglog(Norms)\n",
    "plt.xlim(0,3e1)\n",
    "plt.xlabel('Iteration number')\n",
    "plt.ylabel('Residual norm (Ax-b)');"
   ]
  },
  {
   "cell_type": "code",
   "execution_count": null,
   "id": "24ee856b-c37c-4650-a2d1-22c661cafc30",
   "metadata": {},
   "outputs": [],
   "source": []
  }
 ],
 "metadata": {
  "kernelspec": {
   "display_name": "Python 3 (ipykernel)",
   "language": "python",
   "name": "python3"
  },
  "language_info": {
   "codemirror_mode": {
    "name": "ipython",
    "version": 3
   },
   "file_extension": ".py",
   "mimetype": "text/x-python",
   "name": "python",
   "nbconvert_exporter": "python",
   "pygments_lexer": "ipython3",
   "version": "3.8.12"
  }
 },
 "nbformat": 4,
 "nbformat_minor": 5
}
