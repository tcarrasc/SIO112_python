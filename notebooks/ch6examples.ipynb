{
 "cells": [
  {
   "cell_type": "code",
   "execution_count": 1,
   "id": "920aabad-419a-43b8-81cd-db63106a9022",
   "metadata": {},
   "outputs": [],
   "source": [
    "import pandas as pd \n",
    "import numpy as np \n",
    "import matplotlib.pyplot as plt\n",
    "from numpy.linalg import inv\n",
    "from numpy.linalg import norm\n",
    "from numpy.linalg import qr\n",
    "from numpy.linalg import solve\n",
    "import time\n",
    "from scipy.linalg import lu\n",
    "from scipy.optimize import minimize, rosen"
   ]
  },
  {
   "cell_type": "markdown",
   "id": "4355c2a8-159e-490d-92d8-945323502a90",
   "metadata": {},
   "source": [
    "# SIO 112: CH 6 examples"
   ]
  },
  {
   "cell_type": "code",
   "execution_count": null,
   "id": "ab2026d0-b840-4317-afe7-b69d290225aa",
   "metadata": {},
   "outputs": [],
   "source": [
    "#data = pd.read_csv('../data/')"
   ]
  }
 ],
 "metadata": {
  "kernelspec": {
   "display_name": "Python 3 (ipykernel)",
   "language": "python",
   "name": "python3"
  },
  "language_info": {
   "codemirror_mode": {
    "name": "ipython",
    "version": 3
   },
   "file_extension": ".py",
   "mimetype": "text/x-python",
   "name": "python",
   "nbconvert_exporter": "python",
   "pygments_lexer": "ipython3",
   "version": "3.8.12"
  }
 },
 "nbformat": 4,
 "nbformat_minor": 5
}
